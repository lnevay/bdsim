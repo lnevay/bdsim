{
 "cells": [
  {
   "cell_type": "code",
   "execution_count": 13,
   "metadata": {},
   "outputs": [],
   "source": [
    "# load pyg4ometry\n",
    "import pyg4ometry"
   ]
  },
  {
   "cell_type": "code",
   "execution_count": 14,
   "metadata": {},
   "outputs": [],
   "source": [
    "# registry to store gdml data\n",
    "reg  = pyg4ometry.geant4.Registry()"
   ]
  },
  {
   "cell_type": "markdown",
   "metadata": {},
   "source": [
    "# Box without pipe "
   ]
  },
  {
   "cell_type": "code",
   "execution_count": 15,
   "metadata": {},
   "outputs": [],
   "source": [
    "# world solid \n",
    "ws_1   = pyg4ometry.geant4.solid.Box(\"ws_1\",199.1,199.1,0.1*199.1,reg)\n",
    "\n",
    "# solids\n",
    "all_box = pyg4ometry.geant4.solid.Box(\"all_box\",170.1,170.1,0.1*199.2,reg)\n",
    "inner_box = pyg4ometry.geant4.solid.Box(\"inner_box\",160.1,160.1,0.1*199.2,reg)\n",
    "box = pyg4ometry.geant4.solid.Subtraction(\"box\",all_box,inner_box,[[0,0,0],[0,0,0]],reg)\n",
    "\n",
    "# world logical volume\n",
    "wl   = pyg4ometry.geant4.LogicalVolume(ws_1,\"G4_Galactic\",\"wl\",reg)\n",
    "\n",
    "# logical volumes\n",
    "box_l = pyg4ometry.geant4.LogicalVolume(box,\"G4_Fe\",\"box_l\",reg)\n",
    "box_p = pyg4ometry.geant4.PhysicalVolume([0,0,0],[0,0,0],box_l,\"box_p\",wl,reg)\n",
    "\n",
    "reg.setWorld(wl.name)"
   ]
  },
  {
   "cell_type": "markdown",
   "metadata": {},
   "source": [
    "# Box with pipe "
   ]
  },
  {
   "cell_type": "code",
   "execution_count": null,
   "metadata": {},
   "outputs": [],
   "source": [
    "# world solid\n",
    "ws_1   = pyg4ometry.geant4.solid.Box(\"ws_1\",199.1,199.1,0.1*199.1,reg)\n",
    "\n",
    "# solids\n",
    "all_box = pyg4ometry.geant4.solid.Box(\"all_box\",170.1,170.1,0.1*199.2,reg)\n",
    "inner_box = pyg4ometry.geant4.solid.Box(\"inner_box\",160.1,160.1,0.1*199.2,reg)\n",
    "box = pyg4ometry.geant4.solid.Subtraction(\"box\",all_box,inner_box,[[0,0,0],[0,0,0]],reg)\n",
    "\n",
    "all_pipe = pyg4ometry.geant4.solid.Tubs(\"all_pipe\",0,20,199.2*1,0,2*m.pi,reg)\n",
    "inner_pipe = pyg4ometry.geant4.solid.Tubs(\"inner_pipe\",0,15,199.2*1,0,2*m.pi,reg)\n",
    "pipe = pyg4ometry.geant4.solid.Subtraction(\"pipe\",all_pipe,inner_pipe,[[0,0,0],[0,0,0]],reg)\n",
    "\n",
    "# world logical volume\n",
    "wl   = pyg4ometry.geant4.LogicalVolume(ws_1,\"G4_Galactic\",\"wl\",reg)\n",
    "\n",
    "# logical volumes\n",
    "box_l = pyg4ometry.geant4.LogicalVolume(box,\"G4_Fe\",\"box_l\",reg)\n",
    "box_p = pyg4ometry.geant4.PhysicalVolume([0,0,0],[0,0,0],box_l,\"box_p\",wl,reg)\n",
    "\n",
    "pipe_l   = pyg4ometry.geant4.LogicalVolume(pipe,\"G4_Fe\",\"pipe_l\",reg)\n",
    "pipe_p = pyg4ometry.geant4.PhysicalVolume([0,0,0],[-55,0,0],pipe_l,\"pipe_p\",wl,reg)\n",
    "\n",
    "inner_pipe_l   = pyg4ometry.geant4.LogicalVolume(inner_pipe,\"G4_Galactic\",\"inner_pipe_l\",reg)\n",
    "inner_pipe_p = pyg4ometry.geant4.PhysicalVolume([0,0,0],[-55,0,0],inner_pipe_l,\"inner_pipe_p\",wl,reg)\n",
    "\n",
    "reg.setWorld(wl.name)"
   ]
  },
  {
   "cell_type": "markdown",
   "metadata": {},
   "source": [
    "# Visualisation"
   ]
  },
  {
   "cell_type": "code",
   "execution_count": null,
   "metadata": {},
   "outputs": [],
   "source": [
    "v = pyg4ometry.visualisation.VtkViewer()\n",
    "v.addLogicalVolume(wl)\n",
    "v.addAxes(20)\n",
    "v.view()"
   ]
  },
  {
   "cell_type": "markdown",
   "metadata": {},
   "source": [
    "# gdml creation"
   ]
  },
  {
   "cell_type": "code",
   "execution_count": 16,
   "metadata": {},
   "outputs": [],
   "source": [
    "w = pyg4ometry.gdml.Writer()\n",
    "w.addDetector(reg)\n",
    "w.write('Example/gdml/box.gdml')"
   ]
  },
  {
   "cell_type": "code",
   "execution_count": null,
   "metadata": {},
   "outputs": [],
   "source": []
  }
 ],
 "metadata": {
  "kernelspec": {
   "display_name": "python3",
   "language": "python",
   "name": "python3"
  },
  "language_info": {
   "codemirror_mode": {
    "name": "ipython",
    "version": 3
   },
   "file_extension": ".py",
   "mimetype": "text/x-python",
   "name": "python",
   "nbconvert_exporter": "python",
   "pygments_lexer": "ipython3",
   "version": "3.8.10"
  }
 },
 "nbformat": 4,
 "nbformat_minor": 4
}
